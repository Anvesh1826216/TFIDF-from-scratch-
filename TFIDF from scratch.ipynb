{
 "cells": [
  {
   "cell_type": "markdown",
   "metadata": {},
   "source": [
    "# TFIDF "
   ]
  },
  {
   "cell_type": "markdown",
   "metadata": {
    "colab_type": "text",
    "id": "yeR0jIRu-h5A"
   },
   "source": [
    "## 1) SKLearn Implementation"
   ]
  },
  {
   "cell_type": "code",
   "execution_count": 1,
   "metadata": {
    "colab": {},
    "colab_type": "code",
    "executionInfo": {
     "elapsed": 1254,
     "status": "ok",
     "timestamp": 1594825025552,
     "user": {
      "displayName": "anvesh r",
      "photoUrl": "https://lh3.googleusercontent.com/a-/AOh14GgI0W6usojCtjnIbxBSRrPAATOZxyr2lLeY3I70hA=s64",
      "userId": "13601942486932046834"
     },
     "user_tz": -330
    },
    "id": "2OZo0xaX-FPn"
   },
   "outputs": [],
   "source": [
    "corpus = [\n",
    "     'this is the first document',\n",
    "     'this document is the second document',\n",
    "     'and this is the third one',\n",
    "     'is this the first document',\n",
    "]"
   ]
  },
  {
   "cell_type": "code",
   "execution_count": 2,
   "metadata": {
    "colab": {},
    "colab_type": "code",
    "executionInfo": {
     "elapsed": 1250,
     "status": "ok",
     "timestamp": 1594825059449,
     "user": {
      "displayName": "anvesh r",
      "photoUrl": "https://lh3.googleusercontent.com/a-/AOh14GgI0W6usojCtjnIbxBSRrPAATOZxyr2lLeY3I70hA=s64",
      "userId": "13601942486932046834"
     },
     "user_tz": -330
    },
    "id": "Np4dfQOkxLi4"
   },
   "outputs": [],
   "source": [
    "from sklearn.feature_extraction.text import TfidfVectorizer\n",
    "vectorizer = TfidfVectorizer()\n",
    "vectorizer.fit(corpus)\n",
    "skl_output = vectorizer.transform(corpus)"
   ]
  },
  {
   "cell_type": "code",
   "execution_count": 3,
   "metadata": {
    "colab": {
     "base_uri": "https://localhost:8080/",
     "height": 35
    },
    "colab_type": "code",
    "executionInfo": {
     "elapsed": 1321,
     "status": "ok",
     "timestamp": 1594825064757,
     "user": {
      "displayName": "anvesh r",
      "photoUrl": "https://lh3.googleusercontent.com/a-/AOh14GgI0W6usojCtjnIbxBSRrPAATOZxyr2lLeY3I70hA=s64",
      "userId": "13601942486932046834"
     },
     "user_tz": -330
    },
    "id": "-7Om8YpYxLi6",
    "outputId": "84cac030-57e8-4789-ea4e-9f605fda0b18"
   },
   "outputs": [
    {
     "name": "stdout",
     "output_type": "stream",
     "text": [
      "['and', 'document', 'first', 'is', 'one', 'second', 'the', 'third', 'this']\n"
     ]
    }
   ],
   "source": [
    "# sklearn feature names, they are sorted in alphabetic order by default.\n",
    "\n",
    "print(vectorizer.get_feature_names())"
   ]
  },
  {
   "cell_type": "code",
   "execution_count": 4,
   "metadata": {
    "colab": {
     "base_uri": "https://localhost:8080/",
     "height": 54
    },
    "colab_type": "code",
    "executionInfo": {
     "elapsed": 1566,
     "status": "ok",
     "timestamp": 1594825068501,
     "user": {
      "displayName": "anvesh r",
      "photoUrl": "https://lh3.googleusercontent.com/a-/AOh14GgI0W6usojCtjnIbxBSRrPAATOZxyr2lLeY3I70hA=s64",
      "userId": "13601942486932046834"
     },
     "user_tz": -330
    },
    "id": "dTKplK96xLi-",
    "outputId": "5573e285-8496-41a8-8b9a-30e23b244d58"
   },
   "outputs": [
    {
     "name": "stdout",
     "output_type": "stream",
     "text": [
      "[1.91629073 1.22314355 1.51082562 1.         1.91629073 1.91629073\n",
      " 1.         1.91629073 1.        ]\n"
     ]
    }
   ],
   "source": [
    "# After using the fit function on the corpus the vocab has 9 words in it, and each has its idf value.\n",
    "\n",
    "print(vectorizer.idf_)"
   ]
  },
  {
   "cell_type": "code",
   "execution_count": 5,
   "metadata": {
    "colab": {
     "base_uri": "https://localhost:8080/",
     "height": 35
    },
    "colab_type": "code",
    "executionInfo": {
     "elapsed": 1407,
     "status": "ok",
     "timestamp": 1594825072197,
     "user": {
      "displayName": "anvesh r",
      "photoUrl": "https://lh3.googleusercontent.com/a-/AOh14GgI0W6usojCtjnIbxBSRrPAATOZxyr2lLeY3I70hA=s64",
      "userId": "13601942486932046834"
     },
     "user_tz": -330
    },
    "id": "-CTiWHygxLjA",
    "outputId": "602b5898-924f-40de-f317-3175c06d703c"
   },
   "outputs": [
    {
     "data": {
      "text/plain": [
       "(4, 9)"
      ]
     },
     "execution_count": 5,
     "metadata": {},
     "output_type": "execute_result"
    }
   ],
   "source": [
    "# shape of sklearn tfidf vectorizer output after applying transform method.\n",
    "\n",
    "skl_output.shape"
   ]
  },
  {
   "cell_type": "code",
   "execution_count": 6,
   "metadata": {
    "colab": {
     "base_uri": "https://localhost:8080/",
     "height": 109
    },
    "colab_type": "code",
    "executionInfo": {
     "elapsed": 1345,
     "status": "ok",
     "timestamp": 1594825075566,
     "user": {
      "displayName": "anvesh r",
      "photoUrl": "https://lh3.googleusercontent.com/a-/AOh14GgI0W6usojCtjnIbxBSRrPAATOZxyr2lLeY3I70hA=s64",
      "userId": "13601942486932046834"
     },
     "user_tz": -330
    },
    "id": "bDKEpbA-xLjD",
    "outputId": "e7c8e1d5-2d2b-4b66-d2c2-260d715b7747"
   },
   "outputs": [
    {
     "name": "stdout",
     "output_type": "stream",
     "text": [
      "  (0, 8)\t0.38408524091481483\n",
      "  (0, 6)\t0.38408524091481483\n",
      "  (0, 3)\t0.38408524091481483\n",
      "  (0, 2)\t0.5802858236844359\n",
      "  (0, 1)\t0.46979138557992045\n"
     ]
    }
   ],
   "source": [
    "# sklearn tfidf values for first line of the above corpus.\n",
    "# Here the output is a sparse matrix\n",
    "\n",
    "print(skl_output[0])"
   ]
  },
  {
   "cell_type": "code",
   "execution_count": 7,
   "metadata": {
    "colab": {
     "base_uri": "https://localhost:8080/",
     "height": 54
    },
    "colab_type": "code",
    "executionInfo": {
     "elapsed": 1225,
     "status": "ok",
     "timestamp": 1594825079308,
     "user": {
      "displayName": "anvesh r",
      "photoUrl": "https://lh3.googleusercontent.com/a-/AOh14GgI0W6usojCtjnIbxBSRrPAATOZxyr2lLeY3I70hA=s64",
      "userId": "13601942486932046834"
     },
     "user_tz": -330
    },
    "id": "3QWo34hexLjF",
    "outputId": "4cbf2803-9fa1-426c-99ea-2176a49f03f0"
   },
   "outputs": [
    {
     "name": "stdout",
     "output_type": "stream",
     "text": [
      "[[0.         0.46979139 0.58028582 0.38408524 0.         0.\n",
      "  0.38408524 0.         0.38408524]]\n"
     ]
    }
   ],
   "source": [
    "# sklearn tfidf values for first line of the above corpus.\n",
    "# To understand the output better, here we are converting the sparse output matrix to dense matrix and printing it.\n",
    "# Notice that this output is normalized using L2 normalization. sklearn does this by default.\n",
    "\n",
    "print(skl_output[0].toarray())"
   ]
  },
  {
   "cell_type": "markdown",
   "metadata": {
    "colab_type": "text",
    "id": "S2Sk76HU_Lh8"
   },
   "source": [
    "## 2) With out SKLearn,TFIDF from scatch "
   ]
  },
  {
   "cell_type": "code",
   "execution_count": 8,
   "metadata": {
    "colab": {},
    "colab_type": "code",
    "executionInfo": {
     "elapsed": 1340,
     "status": "ok",
     "timestamp": 1594825085750,
     "user": {
      "displayName": "anvesh r",
      "photoUrl": "https://lh3.googleusercontent.com/a-/AOh14GgI0W6usojCtjnIbxBSRrPAATOZxyr2lLeY3I70hA=s64",
      "userId": "13601942486932046834"
     },
     "user_tz": -330
    },
    "id": "bUsYm9wjxLi1"
   },
   "outputs": [],
   "source": [
    "corpus = [\n",
    "     'this is the first document',\n",
    "     'this document is the second document',\n",
    "     'and this is the third one',\n",
    "     'is this the first document',\n",
    "]"
   ]
  },
  {
   "cell_type": "code",
   "execution_count": 9,
   "metadata": {
    "colab": {},
    "colab_type": "code",
    "executionInfo": {
     "elapsed": 978,
     "status": "ok",
     "timestamp": 1594825087940,
     "user": {
      "displayName": "anvesh r",
      "photoUrl": "https://lh3.googleusercontent.com/a-/AOh14GgI0W6usojCtjnIbxBSRrPAATOZxyr2lLeY3I70hA=s64",
      "userId": "13601942486932046834"
     },
     "user_tz": -330
    },
    "id": "SyPvEYLbILdW"
   },
   "outputs": [],
   "source": [
    "## Importing libraries ## \n",
    "from collections import Counter\n",
    "from tqdm import tqdm\n",
    "from scipy.sparse import csr_matrix\n",
    "import math\n",
    "import operator\n",
    "from sklearn.preprocessing import normalize\n",
    "import numpy"
   ]
  },
  {
   "cell_type": "code",
   "execution_count": 10,
   "metadata": {
    "colab": {
     "base_uri": "https://localhost:8080/",
     "height": 35
    },
    "colab_type": "code",
    "executionInfo": {
     "elapsed": 1347,
     "status": "ok",
     "timestamp": 1594825091997,
     "user": {
      "displayName": "anvesh r",
      "photoUrl": "https://lh3.googleusercontent.com/a-/AOh14GgI0W6usojCtjnIbxBSRrPAATOZxyr2lLeY3I70hA=s64",
      "userId": "13601942486932046834"
     },
     "user_tz": -330
    },
    "id": "dBG-XMlW81BL",
    "outputId": "97b3b213-e0ef-4d6a-9a4e-d832f7d83a2a"
   },
   "outputs": [
    {
     "name": "stdout",
     "output_type": "stream",
     "text": [
      "{0: 'and', 1: 'document', 2: 'first', 3: 'is', 4: 'one', 5: 'second', 6: 'the', 7: 'third', 8: 'this'}\n"
     ]
    }
   ],
   "source": [
    "## Fit method ##\n",
    "import pandas as pd\n",
    "def fit(corpus):    \n",
    "    unique_words = set()\n",
    "    if isinstance(corpus, (list,)):\n",
    "        for row in corpus:\n",
    "            for word in row.split(\" \"):\n",
    "                if len(word) < 2:\n",
    "                    continue\n",
    "                unique_words.add(word)\n",
    "        unique_words = sorted(list(unique_words))\n",
    "        vocab = {i:j for i,j in enumerate(unique_words)}\n",
    "        return vocab\n",
    "    else:\n",
    "        print(\"you need to pass list of sentence\")\n",
    "\n",
    "vocab=fit(corpus)\n",
    "print(vocab)\n"
   ]
  },
  {
   "cell_type": "code",
   "execution_count": 12,
   "metadata": {
    "colab": {
     "base_uri": "https://localhost:8080/",
     "height": 35
    },
    "colab_type": "code",
    "executionInfo": {
     "elapsed": 975,
     "status": "ok",
     "timestamp": 1594825095316,
     "user": {
      "displayName": "anvesh r",
      "photoUrl": "https://lh3.googleusercontent.com/a-/AOh14GgI0W6usojCtjnIbxBSRrPAATOZxyr2lLeY3I70hA=s64",
      "userId": "13601942486932046834"
     },
     "user_tz": -330
    },
    "id": "df7_ORVr-CGF",
    "outputId": "e1013136-2315-4fe0-bbc3-1f6620845e9a"
   },
   "outputs": [
    {
     "name": "stdout",
     "output_type": "stream",
     "text": [
      "[[0, 1, 1, 1, 0, 0, 1, 0, 1], [0, 2, 0, 1, 0, 1, 1, 0, 1], [1, 0, 0, 1, 1, 0, 1, 1, 1], [0, 1, 1, 1, 0, 0, 1, 0, 1]]\n"
     ]
    }
   ],
   "source": [
    "words=[]\n",
    "for row in corpus:\n",
    "  t=[]\n",
    "  for word in row.split(\" \"):\n",
    "    t.append(word)\n",
    "  words.append(t)\n",
    "## Transform method ##\n",
    "temp = []\n",
    "tf=[]\n",
    "for row in words:\n",
    "  temp=[0]*len(vocab)\n",
    "  for word in row:\n",
    "    for w in vocab:\n",
    "      if vocab[w]==word:\n",
    "        temp[w]=temp[w]+1\n",
    "  tf.append(temp)\n",
    "  temp=[0]*len(vocab)\n",
    "print(tf)"
   ]
  },
  {
   "cell_type": "code",
   "execution_count": 13,
   "metadata": {
    "colab": {
     "base_uri": "https://localhost:8080/",
     "height": 35
    },
    "colab_type": "code",
    "executionInfo": {
     "elapsed": 1208,
     "status": "ok",
     "timestamp": 1594825099119,
     "user": {
      "displayName": "anvesh r",
      "photoUrl": "https://lh3.googleusercontent.com/a-/AOh14GgI0W6usojCtjnIbxBSRrPAATOZxyr2lLeY3I70hA=s64",
      "userId": "13601942486932046834"
     },
     "user_tz": -330
    },
    "id": "OQKM6NAaHYrM",
    "outputId": "0783c1ff-4bc4-4d9c-8ac1-9b4692d8d1fc"
   },
   "outputs": [
    {
     "name": "stdout",
     "output_type": "stream",
     "text": [
      "['and', 'document', 'first', 'is', 'one', 'second', 'the', 'third', 'this']\n"
     ]
    }
   ],
   "source": [
    "## Checking the feature names sorted in alphebatical order from sklearn ##\n",
    "a=vocab.values()\n",
    "b=sorted(a)\n",
    "print(b)"
   ]
  },
  {
   "cell_type": "code",
   "execution_count": 14,
   "metadata": {
    "colab": {
     "base_uri": "https://localhost:8080/",
     "height": 55
    },
    "colab_type": "code",
    "executionInfo": {
     "elapsed": 1299,
     "status": "ok",
     "timestamp": 1594825102759,
     "user": {
      "displayName": "anvesh r",
      "photoUrl": "https://lh3.googleusercontent.com/a-/AOh14GgI0W6usojCtjnIbxBSRrPAATOZxyr2lLeY3I70hA=s64",
      "userId": "13601942486932046834"
     },
     "user_tz": -330
    },
    "id": "wRrWcyfv-Rji",
    "outputId": "188d9a4e-8527-46ca-8701-bc4e0fc1cd9b"
   },
   "outputs": [
    {
     "name": "stdout",
     "output_type": "stream",
     "text": [
      "[[0.0, 0.2, 0.2, 0.2, 0.0, 0.0, 0.2, 0.0, 0.2], [0.0, 0.3333333333333333, 0.0, 0.16666666666666666, 0.0, 0.16666666666666666, 0.16666666666666666, 0.0, 0.16666666666666666], [0.16666666666666666, 0.0, 0.0, 0.16666666666666666, 0.16666666666666666, 0.0, 0.16666666666666666, 0.16666666666666666, 0.16666666666666666], [0.0, 0.2, 0.2, 0.2, 0.0, 0.0, 0.2, 0.0, 0.2]]\n"
     ]
    }
   ],
   "source": [
    "## Calculating Tf ##\n",
    "for i in range(len(tf)):\n",
    "  for j in range(len(tf[i])):\n",
    "    tf[i][j]=(tf[i][j])/len(words[i])\n",
    "print(tf)"
   ]
  },
  {
   "cell_type": "code",
   "execution_count": 15,
   "metadata": {
    "colab": {
     "base_uri": "https://localhost:8080/",
     "height": 182
    },
    "colab_type": "code",
    "executionInfo": {
     "elapsed": 1188,
     "status": "ok",
     "timestamp": 1594825105916,
     "user": {
      "displayName": "anvesh r",
      "photoUrl": "https://lh3.googleusercontent.com/a-/AOh14GgI0W6usojCtjnIbxBSRrPAATOZxyr2lLeY3I70hA=s64",
      "userId": "13601942486932046834"
     },
     "user_tz": -330
    },
    "id": "s9-SOTg--d2_",
    "outputId": "9baa5635-70f7-4b20-ae33-a3914aede003"
   },
   "outputs": [
    {
     "name": "stdout",
     "output_type": "stream",
     "text": [
      "and - 1\n",
      "document - 3\n",
      "first - 2\n",
      "is - 4\n",
      "one - 1\n",
      "second - 1\n",
      "the - 4\n",
      "third - 1\n",
      "this - 4\n"
     ]
    }
   ],
   "source": [
    "## Number of occurances ##\n",
    "Oc=[]\n",
    "for i in vocab:\n",
    "  t=0\n",
    "  for row in corpus:\n",
    "    for word in row.split(\" \"):\n",
    "      if(vocab[i]==word):\n",
    "        t=t+1;\n",
    "        break;\n",
    "  Oc.append(t)\n",
    "  print(vocab[i] + \" - \" + str(Oc[i]))"
   ]
  },
  {
   "cell_type": "code",
   "execution_count": 16,
   "metadata": {
    "colab": {
     "base_uri": "https://localhost:8080/",
     "height": 35
    },
    "colab_type": "code",
    "executionInfo": {
     "elapsed": 1294,
     "status": "ok",
     "timestamp": 1594825109625,
     "user": {
      "displayName": "anvesh r",
      "photoUrl": "https://lh3.googleusercontent.com/a-/AOh14GgI0W6usojCtjnIbxBSRrPAATOZxyr2lLeY3I70hA=s64",
      "userId": "13601942486932046834"
     },
     "user_tz": -330
    },
    "id": "45n56Rho-inf",
    "outputId": "9cdbc046-66a0-4f51-d6cb-2e79b735f637"
   },
   "outputs": [
    {
     "name": "stdout",
     "output_type": "stream",
     "text": [
      "[1.916290731874155, 1.2231435513142097, 1.5108256237659907, 1.0, 1.916290731874155, 1.916290731874155, 1.0, 1.916290731874155, 1.0]\n"
     ]
    }
   ],
   "source": [
    "## Calculating IDF ##\n",
    "import math\n",
    "idf=[]\n",
    "N=len(corpus)\n",
    "for i in vocab:\n",
    "  t=0;\n",
    "  t = 1 + (math.log((N+1)/(Oc[i]+1)))\n",
    "  idf.append(t)\n",
    "print(idf)"
   ]
  },
  {
   "cell_type": "code",
   "execution_count": 17,
   "metadata": {
    "colab": {
     "base_uri": "https://localhost:8080/",
     "height": 55
    },
    "colab_type": "code",
    "executionInfo": {
     "elapsed": 1481,
     "status": "ok",
     "timestamp": 1594825114034,
     "user": {
      "displayName": "anvesh r",
      "photoUrl": "https://lh3.googleusercontent.com/a-/AOh14GgI0W6usojCtjnIbxBSRrPAATOZxyr2lLeY3I70hA=s64",
      "userId": "13601942486932046834"
     },
     "user_tz": -330
    },
    "id": "1-nfqoAx-qQk",
    "outputId": "9bb27694-a903-4d09-9ea1-39f1317bbba9"
   },
   "outputs": [
    {
     "name": "stdout",
     "output_type": "stream",
     "text": [
      "[[0.0, 0.24462871026284194, 0.3021651247531982, 0.2, 0.0, 0.0, 0.2, 0.0, 0.2], [0.0, 0.40771451710473655, 0.0, 0.16666666666666666, 0.0, 0.3193817886456925, 0.16666666666666666, 0.0, 0.16666666666666666], [0.3193817886456925, 0.0, 0.0, 0.16666666666666666, 0.3193817886456925, 0.0, 0.16666666666666666, 0.3193817886456925, 0.16666666666666666], [0.0, 0.24462871026284194, 0.3021651247531982, 0.2, 0.0, 0.0, 0.2, 0.0, 0.2]]\n"
     ]
    }
   ],
   "source": [
    "## Calculating TFIDF ##\n",
    "for i in range(len(tf)):\n",
    "  for j in range(len(tf[i])):\n",
    "    tf[i][j]=(tf[i][j])*(idf[j])\n",
    "print(tf)"
   ]
  },
  {
   "cell_type": "code",
   "execution_count": 18,
   "metadata": {
    "colab": {
     "base_uri": "https://localhost:8080/",
     "height": 164
    },
    "colab_type": "code",
    "executionInfo": {
     "elapsed": 1957,
     "status": "ok",
     "timestamp": 1594825118770,
     "user": {
      "displayName": "anvesh r",
      "photoUrl": "https://lh3.googleusercontent.com/a-/AOh14GgI0W6usojCtjnIbxBSRrPAATOZxyr2lLeY3I70hA=s64",
      "userId": "13601942486932046834"
     },
     "user_tz": -330
    },
    "id": "cwIY3sC-Aq_X",
    "outputId": "69b0b20d-d0c0-4819-b3f4-8047a205747d"
   },
   "outputs": [
    {
     "name": "stdout",
     "output_type": "stream",
     "text": [
      "[[0.         0.46979139 0.58028582 0.38408524 0.         0.\n",
      "  0.38408524 0.         0.38408524]\n",
      " [0.         0.6876236  0.         0.28108867 0.         0.53864762\n",
      "  0.28108867 0.         0.28108867]\n",
      " [0.51184851 0.         0.         0.26710379 0.51184851 0.\n",
      "  0.26710379 0.51184851 0.26710379]\n",
      " [0.         0.46979139 0.58028582 0.38408524 0.         0.\n",
      "  0.38408524 0.         0.38408524]]\n"
     ]
    }
   ],
   "source": [
    "## L2 Normalization ##\n",
    "from sklearn.preprocessing import normalize\n",
    "tf_normalized= normalize(tf, norm='l2',axis=1, copy=True, return_norm=False)\n",
    "print(tf_normalized)"
   ]
  },
  {
   "cell_type": "code",
   "execution_count": 19,
   "metadata": {
    "colab": {
     "base_uri": "https://localhost:8080/",
     "height": 109
    },
    "colab_type": "code",
    "executionInfo": {
     "elapsed": 1367,
     "status": "ok",
     "timestamp": 1594825123075,
     "user": {
      "displayName": "anvesh r",
      "photoUrl": "https://lh3.googleusercontent.com/a-/AOh14GgI0W6usojCtjnIbxBSRrPAATOZxyr2lLeY3I70hA=s64",
      "userId": "13601942486932046834"
     },
     "user_tz": -330
    },
    "id": "DO_nS5PX_W1F",
    "outputId": "e00e25b1-1032-4e51-c543-f1c0bfc50d39"
   },
   "outputs": [
    {
     "name": "stdout",
     "output_type": "stream",
     "text": [
      "  (0, 1)\t0.4697913855799205\n",
      "  (0, 2)\t0.580285823684436\n",
      "  (0, 3)\t0.3840852409148149\n",
      "  (0, 6)\t0.3840852409148149\n",
      "  (0, 8)\t0.3840852409148149\n"
     ]
    }
   ],
   "source": [
    "## Sparse matrix ##\n",
    "from scipy.sparse import csr_matrix\n",
    "from scipy import sparse\n",
    "import numpy as np\n",
    "output = sparse.csr_matrix(tf_normalized)\n",
    "print(output[0])"
   ]
  },
  {
   "cell_type": "code",
   "execution_count": 20,
   "metadata": {
    "colab": {
     "base_uri": "https://localhost:8080/",
     "height": 54
    },
    "colab_type": "code",
    "executionInfo": {
     "elapsed": 816,
     "status": "ok",
     "timestamp": 1594825125307,
     "user": {
      "displayName": "anvesh r",
      "photoUrl": "https://lh3.googleusercontent.com/a-/AOh14GgI0W6usojCtjnIbxBSRrPAATOZxyr2lLeY3I70hA=s64",
      "userId": "13601942486932046834"
     },
     "user_tz": -330
    },
    "id": "KobR8SNTCtMK",
    "outputId": "8bbe452f-76f9-4e02-8bb3-c150eeb2dd82"
   },
   "outputs": [
    {
     "name": "stdout",
     "output_type": "stream",
     "text": [
      "[[0.         0.46979139 0.58028582 0.38408524 0.         0.\n",
      "  0.38408524 0.         0.38408524]]\n"
     ]
    }
   ],
   "source": [
    "## Converting sparse matrix to Dense matrix ## \n",
    "print(output[0].toarray())"
   ]
  },
  {
   "cell_type": "code",
   "execution_count": null,
   "metadata": {},
   "outputs": [],
   "source": []
  }
 ],
 "metadata": {
  "colab": {
   "authorship_tag": "ABX9TyPkpeAwdihyKDi7M7+DzgoY",
   "collapsed_sections": [],
   "name": "Task1-assignment5.ipynb",
   "provenance": [
    {
     "file_id": "1LQoX5SJ7fUTEeHriAfl7vOup7_IOQa9o",
     "timestamp": 1594791678033
    }
   ]
  },
  "kernelspec": {
   "display_name": "Python 3",
   "language": "python",
   "name": "python3"
  },
  "language_info": {
   "codemirror_mode": {
    "name": "ipython",
    "version": 3
   },
   "file_extension": ".py",
   "mimetype": "text/x-python",
   "name": "python",
   "nbconvert_exporter": "python",
   "pygments_lexer": "ipython3",
   "version": "3.7.6"
  }
 },
 "nbformat": 4,
 "nbformat_minor": 1
}
